{
 "cells": [
  {
   "cell_type": "markdown",
   "metadata": {},
   "source": [
    "# Python General Knowledge\n",
    "The goal of this notebook is to impart some useful Python tricks that we might be using in this CoP.  Granted, this is not an all encompassing guide to Python, but hopefully this will get you going on your path to Python."
   ]
  },
  {
   "cell_type": "markdown",
   "metadata": {},
   "source": [
    "## Lists\n",
    "Lists are one of the most used data structures in Python, and frankly one of the most useful for data manipulation in vanilla Python.  Let's start by creating a list and populating it."
   ]
  },
  {
   "cell_type": "code",
   "execution_count": 16,
   "metadata": {},
   "outputs": [
    {
     "data": {
      "text/plain": [
       "[0, 1, 2, 3, 4, 5, 6, 7, 8, 9, 10, 11, 12, 13, 14, 15, 16, 17, 18, 19, 20]"
      ]
     },
     "execution_count": 16,
     "metadata": {},
     "output_type": "execute_result"
    }
   ],
   "source": [
    "x = []\n",
    "for i in range(21):\n",
    "    x.append(i)\n",
    "x"
   ]
  },
  {
   "cell_type": "markdown",
   "metadata": {},
   "source": [
    "The above code creates a empty list, then populates it with integers from 0-20.  Now let's look at some cool ways to manipulate that data."
   ]
  },
  {
   "cell_type": "markdown",
   "metadata": {},
   "source": [
    "#### List Slicing\n",
    "Let's say that we want to only use the first 5 elements or the last 5.  We can use list slicing to do that.  The syntax for list slice is `list[start:stop:step]`. Let's take a look at a few examples of this."
   ]
  },
  {
   "cell_type": "code",
   "execution_count": 17,
   "metadata": {},
   "outputs": [
    {
     "data": {
      "text/plain": [
       "[0, 1, 2, 3, 4]"
      ]
     },
     "execution_count": 17,
     "metadata": {},
     "output_type": "execute_result"
    }
   ],
   "source": [
    "x[:5]"
   ]
  },
  {
   "cell_type": "code",
   "execution_count": 18,
   "metadata": {},
   "outputs": [
    {
     "data": {
      "text/plain": [
       "[16, 17, 18, 19, 20]"
      ]
     },
     "execution_count": 18,
     "metadata": {},
     "output_type": "execute_result"
    }
   ],
   "source": [
    "x[-5:]"
   ]
  },
  {
   "cell_type": "code",
   "execution_count": 20,
   "metadata": {},
   "outputs": [
    {
     "data": {
      "text/plain": [
       "[5, 7, 9, 11, 13, 15]"
      ]
     },
     "execution_count": 20,
     "metadata": {},
     "output_type": "execute_result"
    }
   ],
   "source": [
    "x[5:-5:2]"
   ]
  },
  {
   "cell_type": "code",
   "execution_count": 21,
   "metadata": {},
   "outputs": [
    {
     "data": {
      "text/plain": [
       "[20, 19, 18, 17, 16, 15, 14, 13, 12, 11, 10, 9, 8, 7, 6, 5, 4, 3, 2, 1, 0]"
      ]
     },
     "execution_count": 21,
     "metadata": {},
     "output_type": "execute_result"
    }
   ],
   "source": [
    "x[::-1]"
   ]
  },
  {
   "cell_type": "markdown",
   "metadata": {},
   "source": [
    "Pretty cool right?  List slicing gives us a really easy way to look at a list in different ways.  Also, you may have noticed, but a Python list is indexed both forward and backwards.  So the first element in a list is both index `0` and index `-len(list)`.  Same goes for the last element being both index `-1` and `len(list)-1`.  The step can also be positive or negative, depending on if you want to traverse the list forward or backwards."
   ]
  },
  {
   "cell_type": "code",
   "execution_count": null,
   "metadata": {},
   "outputs": [],
   "source": [
    "normal_indices = [0, 1, 2, 3, 4, 5]\n",
    "reverse_indices = [-6, -5, -4, -3, -2, -1]"
   ]
  },
  {
   "cell_type": "markdown",
   "metadata": {},
   "source": [
    "#### List Comprehension\n",
    "Now let's say we want to manipulate a list, but need a bit more complicated logic than just accessing specific indexes.  This is where list comprehensions really shine.  Let's say we have a list of lists and we need to filter out any component lists that are empty.  Let's see how we do that below."
   ]
  },
  {
   "cell_type": "code",
   "execution_count": 22,
   "metadata": {},
   "outputs": [],
   "source": [
    "y = [\n",
    "    [0, 1, 2],\n",
    "    [],\n",
    "    [],\n",
    "    [3, 4],\n",
    "    [5, 6, 7, 8],\n",
    "]"
   ]
  },
  {
   "cell_type": "markdown",
   "metadata": {},
   "source": [
    "As we see in list `y`, all of the component lists are different lengths, and some are empty.  Now let's remove the empty lists from `y`."
   ]
  },
  {
   "cell_type": "code",
   "execution_count": 23,
   "metadata": {},
   "outputs": [
    {
     "data": {
      "text/plain": [
       "[[0, 1, 2], [3, 4], [5, 6, 7, 8]]"
      ]
     },
     "execution_count": 23,
     "metadata": {},
     "output_type": "execute_result"
    }
   ],
   "source": [
    "z = [element for element in y if len(element) > 0]\n",
    "z"
   ]
  },
  {
   "cell_type": "markdown",
   "metadata": {},
   "source": [
    "Wow.  One line to do that.  Pretty cool if you ask me.  But let's take a second to break that down.  What is the above equivalent to?  Let's write this as a normal `for` loop."
   ]
  },
  {
   "cell_type": "code",
   "execution_count": 24,
   "metadata": {},
   "outputs": [
    {
     "data": {
      "text/plain": [
       "[[0, 1, 2], [3, 4], [5, 6, 7, 8]]"
      ]
     },
     "execution_count": 24,
     "metadata": {},
     "output_type": "execute_result"
    }
   ],
   "source": [
    "z2 = []\n",
    "for element in y:\n",
    "    if len(element) > 0:\n",
    "        z2.append(element)\n",
    "z2"
   ]
  },
  {
   "cell_type": "markdown",
   "metadata": {},
   "source": [
    "Same result, but 4 lines.  Nothing wrong with the above code, but definitely feels less clean.  Especially if you need to do these types of manipulations multiple times in a single file."
   ]
  },
  {
   "cell_type": "markdown",
   "metadata": {},
   "source": [
    "But what if we want to look only at the third element in the component arrays if they exist.  How would we do that with list comprehension?  Let's look."
   ]
  },
  {
   "cell_type": "code",
   "execution_count": 26,
   "metadata": {},
   "outputs": [
    {
     "data": {
      "text/plain": [
       "[4, 14]"
      ]
     },
     "execution_count": 26,
     "metadata": {},
     "output_type": "execute_result"
    }
   ],
   "source": [
    "z3 = [element[2] for element in y if len(element) > 2]\n",
    "z3"
   ]
  },
  {
   "cell_type": "markdown",
   "metadata": {},
   "source": [
    "Pretty much the same as above.  Notice that you can return different values into the new list based on the current element.  This is also useful if you have a list of classes that you want to filter based on one member variable, but store a different member variable into the new list."
   ]
  },
  {
   "cell_type": "markdown",
   "metadata": {},
   "source": [
    "If you are curious to learn more about lists and their possible uses, check out the docs here: https://docs.python.org/3/tutorial/datastructures.html"
   ]
  },
  {
   "cell_type": "markdown",
   "metadata": {},
   "source": [
    "## Dictionaries\n",
    "Along with lists, dictionaries are also very widely used data structures in Python.  They are a data stucture that gives you key value pairs so that you can quickly look up the value based on the key.  "
   ]
  },
  {
   "cell_type": "markdown",
   "metadata": {},
   "source": [
    "Let's take a look at a standard dictionary."
   ]
  },
  {
   "cell_type": "code",
   "execution_count": 27,
   "metadata": {},
   "outputs": [
    {
     "name": "stdout",
     "output_type": "stream",
     "text": [
      "['sky', 'sea']\n",
      "['stop sign', 'fire truck']\n",
      "['sun', 'school bus']\n"
     ]
    }
   ],
   "source": [
    "example_dict = {\n",
    "    'blue': ['sky', 'sea'],\n",
    "    'yellow': ['sun', 'school bus'],\n",
    "    'red': ['stop sign', 'fire truck'],\n",
    "}\n",
    "\n",
    "print(example_dict.get('blue'))\n",
    "print(example_dict.setdefault('red', []))\n",
    "print(example_dict['yellow'])"
   ]
  },
  {
   "cell_type": "markdown",
   "metadata": {},
   "source": [
    "Pretty basic example here.  Based on the color you have, the example_dict will give you a couple of examples of what are that color.  This case is extremely useful, but you probably already know how to do this.  Let's look at a way you can use a dictionary that you may not be familiar with."
   ]
  },
  {
   "cell_type": "code",
   "execution_count": 28,
   "metadata": {},
   "outputs": [
    {
     "name": "stdout",
     "output_type": "stream",
     "text": [
      "foo\n",
      "bar\n",
      "baz\n",
      "got default\n",
      "got default\n"
     ]
    }
   ],
   "source": [
    "def foo():\n",
    "    print('foo')\n",
    "    \n",
    "def bar():\n",
    "    print('bar')\n",
    "\n",
    "def baz():\n",
    "    print('baz')\n",
    "    \n",
    "def catch_all():\n",
    "    print('got default')\n",
    "    \n",
    "switch_dict = {\n",
    "    0: foo,\n",
    "    1: bar,\n",
    "    2: baz,\n",
    "}\n",
    "\n",
    "for i in range(5):\n",
    "    switch_dict.get(i, catch_all)()\n"
   ]
  },
  {
   "cell_type": "markdown",
   "metadata": {},
   "source": [
    "That's right.  You can use dictionaries as a switch case in Python.  This provides a quick way to do map a key to a function.  Although the case above is simple, the use of this is extremely useful.  Especially if you have more complicated keys.  Python creates a hash table under the hood, so the lookup time for a dictionary is extremely fast."
   ]
  },
  {
   "cell_type": "markdown",
   "metadata": {},
   "source": [
    "There are a lot of things you can do with dictionaries, and I would suggest looking at them more.  You can find more information on them on their documentation page, located at https://docs.python.org/3/library/stdtypes.html#typesmapping."
   ]
  },
  {
   "cell_type": "markdown",
   "metadata": {},
   "source": [
    "## Generators\n",
    "Generator functions are special functions that are designed to behave like iterators.  What sets them apart is the fact that they use the `yield` keyword instead of the `return` keyword.  Also, when you yield from a generator function, the state of that function is remembered for the next call.  Let's see an example of this special function."
   ]
  },
  {
   "cell_type": "code",
   "execution_count": 29,
   "metadata": {},
   "outputs": [
    {
     "name": "stdout",
     "output_type": "stream",
     "text": [
      "1\n",
      "4\n",
      "9\n",
      "16\n"
     ]
    }
   ],
   "source": [
    "def squared(input_list):\n",
    "    for input_value in input_list:\n",
    "        yield input_value**2\n",
    "        \n",
    "list_to_be_squared = [1, 2, 3, 4]\n",
    "\n",
    "for value in squared(list_to_be_squared):\n",
    "    print(value)"
   ]
  },
  {
   "cell_type": "markdown",
   "metadata": {},
   "source": [
    "Here you might ask \"Why not just create a new list through list comprehension?\".  In this case you absolutely could.  But what happens when your input list becomes extremely large?  Let's say the list you are looking at is over half your available RAM on your computer?  You cannot create a second list if the dataset is that big.  That is a place that generators really shine."
   ]
  },
  {
   "cell_type": "markdown",
   "metadata": {},
   "source": [
    "But what does this generator really mean?  Let's expand upon this squared generator a little more.  What is a more OOP way to define it?  Let's take a look to get a better understanding of the above code."
   ]
  },
  {
   "cell_type": "code",
   "execution_count": 30,
   "metadata": {},
   "outputs": [
    {
     "name": "stdout",
     "output_type": "stream",
     "text": [
      "1\n",
      "4\n",
      "9\n",
      "16\n"
     ]
    }
   ],
   "source": [
    "class squared():\n",
    "    def __init__(self, int_list):\n",
    "        self.int_list = int_list\n",
    "        self.i = 0\n",
    "        \n",
    "    def __iter__(self):\n",
    "        return self\n",
    "    \n",
    "    def __next__(self):\n",
    "        if self.i < len(self.int_list):\n",
    "            val = self.int_list[self.i]**2\n",
    "            self.i += 1\n",
    "            return val\n",
    "        else:\n",
    "            raise StopIteration()\n",
    "\n",
    "list_to_be_squared = [1, 2, 3, 4]\n",
    "\n",
    "for value in squared(list_to_be_squared):\n",
    "    print(value)"
   ]
  },
  {
   "cell_type": "markdown",
   "metadata": {},
   "source": [
    "Exact same output.  Cool.  But I think we can all agree that the generator function is a LOT cleaner to read.  However, it is good to know what is happening behind the scenes for a generator function."
   ]
  },
  {
   "cell_type": "markdown",
   "metadata": {},
   "source": [
    "If you wish to learn more about generator functions and further understand their uses, I would look here: https://docs.python.org/3/howto/functional.html#generators"
   ]
  },
  {
   "cell_type": "markdown",
   "metadata": {},
   "source": [
    "## Decorators\n",
    "And now the fun part.  Really special functions to make our code cleaner!  Decorators are really great for ripping out some of that common code that we are using in a lot of our functions or even classes.  Granted, they themselves aren't the most beautiful code to look at, they make the decorated functions much cleaner.  Let's take a look at a good time to use decorators in a simple example."
   ]
  },
  {
   "cell_type": "code",
   "execution_count": 31,
   "metadata": {},
   "outputs": [
    {
     "name": "stdout",
     "output_type": "stream",
     "text": [
      "Entering get_sum\n",
      "Leaving get_sum\n",
      "3\n",
      "Entering get_product\n",
      "Leaving get_product\n",
      "12\n",
      "Entering get_difference\n",
      "Leaving get_difference\n",
      "3\n"
     ]
    }
   ],
   "source": [
    "def get_sum(x, y):\n",
    "    print(\"Entering get_sum\")\n",
    "    val = x + y\n",
    "    print(\"Leaving get_sum\")\n",
    "    return val\n",
    "\n",
    "def get_product(x, y):\n",
    "    print(\"Entering get_product\")\n",
    "    val = x * y\n",
    "    print(\"Leaving get_product\")\n",
    "    return val\n",
    "    \n",
    "def get_difference(x, y):\n",
    "    print(\"Entering get_difference\")\n",
    "    val = x - y\n",
    "    print(\"Leaving get_difference\")\n",
    "    return val\n",
    "\n",
    "print(get_sum(1, 2))\n",
    "print(get_product(3, 4))\n",
    "print(get_difference(4, 1))"
   ]
  },
  {
   "cell_type": "markdown",
   "metadata": {},
   "source": [
    "So the client gave you a requirement that they want to know when you entered a function and when you left a function.  Don't ask why.  But it would be a little disgusting writing a print function at the beginning of every function you write, and at the end of every function you write.  Let alone now you are forced to write the name of that function 3 times...  That is a hard pass for me.  So let's take a look at what a decorator solution would look like."
   ]
  },
  {
   "cell_type": "code",
   "execution_count": 32,
   "metadata": {},
   "outputs": [
    {
     "name": "stdout",
     "output_type": "stream",
     "text": [
      "Entering get_sum\n",
      "Leaving get_sum\n",
      "3\n",
      "Entering get_product\n",
      "Leaving get_product\n",
      "12\n",
      "Entering get_difference\n",
      "Leaving get_difference\n",
      "3\n"
     ]
    }
   ],
   "source": [
    "import functools\n",
    "\n",
    "def scoped_function_print(function):\n",
    "    @functools.wraps(function)\n",
    "    def inner(*args, **kwargs):\n",
    "        print(f\"Entering {function.__name__}\")\n",
    "        return_value = function(*args, **kwargs)\n",
    "        print(f\"Leaving {function.__name__}\")\n",
    "        return return_value\n",
    "    \n",
    "    return inner\n",
    "\n",
    "@scoped_function_print\n",
    "def get_sum(x, y):\n",
    "    return x + y\n",
    "\n",
    "@scoped_function_print\n",
    "def get_product(x, y):\n",
    "    return x * y\n",
    "\n",
    "@scoped_function_print\n",
    "def get_difference(x, y):\n",
    "    return x - y\n",
    "\n",
    "print(get_sum(1, 2))\n",
    "print(get_product(3, 4))\n",
    "print(get_difference(4, 1))"
   ]
  },
  {
   "cell_type": "markdown",
   "metadata": {},
   "source": [
    "Now all to do is to hide that ugly decorator function in a different module and import it.  But man, those functions are much better looking now!  And you keep all of the functionality!  "
   ]
  },
  {
   "cell_type": "markdown",
   "metadata": {},
   "source": [
    "If you want to learn more about decorators and their uses, or how to decorate a class, here is a good starting point: https://realpython.com/primer-on-python-decorators/"
   ]
  },
  {
   "cell_type": "markdown",
   "metadata": {},
   "source": [
    "## Context Managers\n",
    "Now what if you want to guarantee something gets cleaned up after use in your code?  Let's say we open a file and want to guarantee we close it after we use it.  Or we open a connection to a database, and we want to guarantee we close the connection after.  Context managers are what we want in these cases.  Let's take a look into what these look like."
   ]
  },
  {
   "cell_type": "code",
   "execution_count": 33,
   "metadata": {},
   "outputs": [
    {
     "name": "stdout",
     "output_type": "stream",
     "text": [
      "Hello world!\n"
     ]
    }
   ],
   "source": [
    "test_file = open(\"test.txt\")\n",
    "for line in test_file:\n",
    "    print(line)\n",
    "test_file.close()"
   ]
  },
  {
   "cell_type": "markdown",
   "metadata": {},
   "source": [
    "Well that works, but let's say an exception is raised while reading the lines in the file.  You could end up in a state with an open file pointer since you never reached the line to close the file.  That is far from ideal.  So now let's look at how we can guarantee this gets closed."
   ]
  },
  {
   "cell_type": "code",
   "execution_count": 34,
   "metadata": {},
   "outputs": [
    {
     "name": "stdout",
     "output_type": "stream",
     "text": [
      "Hello world!\n"
     ]
    }
   ],
   "source": [
    "with open(\"test.txt\") as test_file:\n",
    "    for line in test_file:\n",
    "        print(line)"
   ]
  },
  {
   "cell_type": "markdown",
   "metadata": {},
   "source": [
    "Thankfully the built in open function has a context manager built in.  But let's say we wanted to build this out ourselves for something that does not have it built in.  What does this look like?"
   ]
  },
  {
   "cell_type": "code",
   "execution_count": null,
   "metadata": {},
   "outputs": [],
   "source": [
    "class CustomContextFile:\n",
    "    def __init__(self, file_name):\n",
    "        self.file_name = file_name\n",
    "\n",
    "    def __enter__(self):\n",
    "        self.context_file = open(self.file_name)\n",
    "\n",
    "    def __exit__(self, type, value, trace_back):\n",
    "        self.context_file.close()\n",
    "\n",
    "file = CustomContextFile(\"/Users/TylerCatanzaro/source/lnl_presentation_aid/example_one/test.txt\")\n",
    "with file:\n",
    "    for line in file.context_file:\n",
    "        print(line)"
   ]
  },
  {
   "cell_type": "markdown",
   "metadata": {},
   "source": [
    "Well that is one way to do it.  You can define the `__enter__` and `__exit__` methods on a class to allow Python to be able to use the context manager syntax.  But this isn't the cleanest way to do things.  Let's bring all of the things we learned together to create a nice clean context manager."
   ]
  },
  {
   "cell_type": "code",
   "execution_count": 35,
   "metadata": {},
   "outputs": [
    {
     "name": "stdout",
     "output_type": "stream",
     "text": [
      "Hello world!\n"
     ]
    }
   ],
   "source": [
    "from contextlib import contextmanager\n",
    "\n",
    "\n",
    "@contextmanager\n",
    "def custom_context_file(file_name):\n",
    "    try:\n",
    "        context_file = open(file_name)\n",
    "        yield context_file\n",
    "    finally:\n",
    "        context_file.close()\n",
    "\n",
    "\n",
    "\n",
    "with custom_context_file(\"/Users/TylerCatanzaro/source/lnl_presentation_aid/example_one/test.txt\") as file:\n",
    "    for line in file:\n",
    "        print(line)"
   ]
  },
  {
   "cell_type": "markdown",
   "metadata": {},
   "source": [
    "Woah.  That is a lot to consume.  Let's break it down.  We defined a function to act as our context manager.  We have to start the function in a try block.  This guarantees that we will reach the finally block even if we raise an exception.  Perfect.  And yes, in Python if you do not define a catch block, the exception will just be raised to the calling code.  But wait, we use the yield keyword here.  Was that not for defining generators?  Well, all it does it temporarily return from the generator function and remember state.  So we yield the opened file back to the context manager from before.  But what happens next?  Normally we have to call `next()` on the iterator to get back into the generator function.  But that is not the case here.  That is where the decorator start to come into play.  Remember that a decorator is just a function wrapper.  So the special contextmanager wrapper that is packaged with Python in the contextlib handles all of that for us.  It sets us up to basically side step the need to call back into the iterator, it catches the StopIteration exception that is raised, and provides Python with what it needs to be able to use the with keyword on the function.  Pretty cool right?"
   ]
  },
  {
   "cell_type": "code",
   "execution_count": null,
   "metadata": {},
   "outputs": [],
   "source": []
  }
 ],
 "metadata": {
  "kernelspec": {
   "display_name": "Python 3",
   "language": "python",
   "name": "python3"
  },
  "language_info": {
   "codemirror_mode": {
    "name": "ipython",
    "version": 3
   },
   "file_extension": ".py",
   "mimetype": "text/x-python",
   "name": "python",
   "nbconvert_exporter": "python",
   "pygments_lexer": "ipython3",
   "version": "3.8.0"
  }
 },
 "nbformat": 4,
 "nbformat_minor": 4
}
